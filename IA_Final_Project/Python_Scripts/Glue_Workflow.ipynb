{
 "cells": [
  {
   "cell_type": "code",
   "execution_count": 1,
   "id": "ce53d470",
   "metadata": {},
   "outputs": [],
   "source": [
    "# If you haven't installed the 'pg8000' package for PostgreSQL connection, add it to your Lambda function\n",
    "#!pip install pg8000"
   ]
  },
  {
   "cell_type": "code",
   "execution_count": 2,
   "id": "c20a3dd9",
   "metadata": {},
   "outputs": [
    {
     "name": "stdout",
     "output_type": "stream",
     "text": [
      "Glue workflow 'Mission_Green_ETL_WorkFlow' started with Run ID: wr_3be61151e161f7a7afa776ec183bf8b57bbc3fd2b08f152972fb34a21a953695\n",
      "Glue workflow triggered\n"
     ]
    }
   ],
   "source": [
    "import boto3\n",
    "import pymysql\n",
    "import os\n",
    "from dotenv import load_dotenv\n",
    "\n",
    "#load_dotenv(dotenv_path)\n",
    "\n",
    "#method to get values of environment varaibles from .env file \n",
    "#load_dotenv('.env')\n",
    "\n",
    "# Environment variables for sensitive data\n",
    "DB_HOST = \"database-1.cnq4kwysqjdb.us-east-1.rds.amazonaws.com\"\n",
    "DB_PORT = 3306\n",
    "DB_NAME = \"mission_green\"\n",
    "DB_USER = \"\"\n",
    "DB_PASSWORD = \"\"\n",
    "\n",
    "#DB_TABLE = os.environ.get(\"DB_TABLE\")  # Table to check for data\n",
    "GLUE_WORKFLOW_NAME = \"Mission_Green_ETL_WorkFlow\"  # Glue workflow to trigger\n",
    "\n",
    "# Function to check if a table contains any data\n",
    "def check_table_has_data():\n",
    "    # Connect to MySQL database\n",
    "    conn = pymysql.connect(\n",
    "        host=DB_HOST,\n",
    "        port=DB_PORT,\n",
    "        user=DB_USER,\n",
    "        password=DB_PASSWORD,\n",
    "        db=DB_NAME\n",
    "    )\n",
    "\n",
    "    # Create a cursor to execute SQL statements\n",
    "    cursor = conn.cursor()\n",
    "    cursor.execute(f\"SELECT COUNT(*) FROM mission_green_dw.air_water_fact\")\n",
    "    \n",
    "    result = cursor.fetchone()\n",
    "    return result[0] >= 0  # True if count = 0, otherwise False\n",
    "\n",
    "# Start the glue workflow aftermissio\n",
    "def process_handler():\n",
    "   # Define the correct region\n",
    "    region_name = \"us-east-1\"\n",
    "    \n",
    "    # Create a Glue client with the specified region\n",
    "    glue = boto3.client(\"glue\", region_name=region_name)\n",
    "    try:\n",
    "        if check_table_has_data():\n",
    "            # Trigger the Glue workflow\n",
    "            response = glue.start_workflow_run(Name=GLUE_WORKFLOW_NAME)\n",
    "\n",
    "            # Output the workflow run ID to confirm it was triggered\n",
    "            workflow_run_id = response[\"RunId\"]\n",
    "            print(f\"Glue workflow '{GLUE_WORKFLOW_NAME}' started with Run ID: {workflow_run_id}\")\n",
    "        else:\n",
    "            print(\"Table is not created, Glue workflow not triggered\")\n",
    "\n",
    "    except glue.exceptions.EntityNotFoundException:\n",
    "        print(f\"Error: Glue workflow '{GLUE_WORKFLOW_NAME}' not found.\")\n",
    "\n",
    "    except NoCredentialsError:\n",
    "        print(\"Error: No AWS credentials found. Please configure your AWS credentials.\")\n",
    "\n",
    "    except PartialCredentialsError:\n",
    "        print(\"Error: Incomplete AWS credentials. Please check your configuration.\")\n",
    "\n",
    "    except Exception as e:\n",
    "        print(f\"An unexpected error occurred: {e}\")\n",
    "    try:\n",
    "        if check_table_has_data():\n",
    "            # If table contains data, trigger the Glue workflow\n",
    "            response = glue.start_workflow_run(Name=GLUE_WORKFLOW_NAME)\n",
    "            print(\"Glue workflow triggered\")\n",
    "        else:\n",
    "            print(\"Table is not created, Glue workflow not triggered\")\n",
    "\n",
    "    except Exception as e:\n",
    "        print(f\"Error occurred: {e}\")\n",
    "        \n",
    "process_handler()"
   ]
  }
 ],
 "metadata": {
  "kernelspec": {
   "display_name": "Python 3 (ipykernel)",
   "language": "python",
   "name": "python3"
  },
  "language_info": {
   "codemirror_mode": {
    "name": "ipython",
    "version": 3
   },
   "file_extension": ".py",
   "mimetype": "text/x-python",
   "name": "python",
   "nbconvert_exporter": "python",
   "pygments_lexer": "ipython3",
   "version": "3.9.12"
  }
 },
 "nbformat": 4,
 "nbformat_minor": 5
}
